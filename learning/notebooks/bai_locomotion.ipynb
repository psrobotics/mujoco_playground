{
 "cells": [
  {
   "cell_type": "code",
   "execution_count": 1,
   "metadata": {},
   "outputs": [
    {
     "name": "stdout",
     "output_type": "stream",
     "text": [
      "Thu Mar 27 16:36:03 2025       \n",
      "+-----------------------------------------------------------------------------------------+\n",
      "| NVIDIA-SMI 560.35.03              Driver Version: 560.35.03      CUDA Version: 12.6     |\n",
      "|-----------------------------------------+------------------------+----------------------+\n",
      "| GPU  Name                 Persistence-M | Bus-Id          Disp.A | Volatile Uncorr. ECC |\n",
      "| Fan  Temp   Perf          Pwr:Usage/Cap |           Memory-Usage | GPU-Util  Compute M. |\n",
      "|                                         |                        |               MIG M. |\n",
      "|=========================================+========================+======================|\n",
      "|   0  NVIDIA GeForce RTX 2060 ...    Off |   00000000:01:00.0 Off |                  N/A |\n",
      "| N/A   58C    P8              4W /   30W |       6MiB /   6144MiB |      0%      Default |\n",
      "|                                         |                        |                  N/A |\n",
      "+-----------------------------------------+------------------------+----------------------+\n",
      "                                                                                         \n",
      "+-----------------------------------------------------------------------------------------+\n",
      "| Processes:                                                                              |\n",
      "|  GPU   GI   CI        PID   Type   Process name                              GPU Memory |\n",
      "|        ID   ID                                                               Usage      |\n",
      "|=========================================================================================|\n",
      "|    0   N/A  N/A     25041      G   /usr/lib/xorg/Xorg                              4MiB |\n",
      "+-----------------------------------------------------------------------------------------+\n",
      "Setting environment variable to use GPU rendering:\n",
      "env: MUJOCO_GL=egl\n",
      "Checking that the installation succeeded:\n",
      "Installation successful.\n"
     ]
    }
   ],
   "source": [
    "# @title Check if MuJoCo installation was successful\n",
    "\n",
    "import distutils.util\n",
    "import os\n",
    "import subprocess\n",
    "\n",
    "if subprocess.run('nvidia-smi').returncode:\n",
    "  raise RuntimeError(\n",
    "      'Cannot communicate with GPU. '\n",
    "      'Make sure you are using a GPU Colab runtime. '\n",
    "      'Go to the Runtime menu and select Choose runtime type.'\n",
    "  )\n",
    "\n",
    "# Add an ICD config so that glvnd can pick up the Nvidia EGL driver.\n",
    "# This is usually installed as part of an Nvidia driver package, but the Colab\n",
    "# kernel doesn't install its driver via APT, and as a result the ICD is missing.\n",
    "# (https://github.com/NVIDIA/libglvnd/blob/master/src/EGL/icd_enumeration.md)\n",
    "NVIDIA_ICD_CONFIG_PATH = '/usr/share/glvnd/egl_vendor.d/10_nvidia.json'\n",
    "if not os.path.exists(NVIDIA_ICD_CONFIG_PATH):\n",
    "  with open(NVIDIA_ICD_CONFIG_PATH, 'w') as f:\n",
    "    f.write(\"\"\"{\n",
    "    \"file_format_version\" : \"1.0.0\",\n",
    "    \"ICD\" : {\n",
    "        \"library_path\" : \"libEGL_nvidia.so.0\"\n",
    "    }\n",
    "}\n",
    "\"\"\")\n",
    "\n",
    "# Configure MuJoCo to use the EGL rendering backend (requires GPU)\n",
    "print('Setting environment variable to use GPU rendering:')\n",
    "%env MUJOCO_GL=egl\n",
    "\n",
    "try:\n",
    "  print('Checking that the installation succeeded:')\n",
    "  import mujoco\n",
    "\n",
    "  mujoco.MjModel.from_xml_string('<mujoco/>')\n",
    "except Exception as e:\n",
    "  raise e from RuntimeError(\n",
    "      'Something went wrong during installation. Check the shell output above '\n",
    "      'for more information.\\n'\n",
    "      'If using a hosted Colab runtime, make sure you enable GPU acceleration '\n",
    "      'by going to the Runtime menu and selecting \"Choose runtime type\".'\n",
    "  )\n",
    "\n",
    "print('Installation successful.')\n",
    "\n",
    "# Tell XLA to use Triton GEMM, this improves steps/sec by ~30% on some GPUs\n",
    "xla_flags = os.environ.get('XLA_FLAGS', '')\n",
    "xla_flags += ' --xla_gpu_triton_gemm_any=True'\n",
    "os.environ['XLA_FLAGS'] = xla_flags"
   ]
  },
  {
   "cell_type": "code",
   "execution_count": 2,
   "metadata": {},
   "outputs": [
    {
     "name": "stdout",
     "output_type": "stream",
     "text": [
      "Installing mediapy:\n"
     ]
    }
   ],
   "source": [
    "# @title Import packages for plotting and creating graphics\n",
    "import json\n",
    "import itertools\n",
    "import time\n",
    "from typing import Callable, List, NamedTuple, Optional, Union\n",
    "import numpy as np\n",
    "\n",
    "# Graphics and plotting.\n",
    "print(\"Installing mediapy:\")\n",
    "!command -v ffmpeg >/dev/null || (apt update && apt install -y ffmpeg)\n",
    "!pip install -q mediapy\n",
    "import mediapy as media\n",
    "import matplotlib.pyplot as plt\n",
    "\n",
    "# More legible printing from numpy.\n",
    "np.set_printoptions(precision=3, suppress=True, linewidth=100)"
   ]
  },
  {
   "cell_type": "code",
   "execution_count": 3,
   "metadata": {},
   "outputs": [],
   "source": [
    "# @title Import MuJoCo, MJX, and Brax\n",
    "from datetime import datetime\n",
    "import functools\n",
    "import os\n",
    "from typing import Any, Dict, Sequence, Tuple, Union\n",
    "from brax import base\n",
    "from brax import envs\n",
    "from brax import math\n",
    "from brax.base import Base, Motion, Transform\n",
    "from brax.base import State as PipelineState\n",
    "from brax.envs.base import Env, PipelineEnv, State\n",
    "from brax.io import html, mjcf, model\n",
    "from brax.mjx.base import State as MjxState\n",
    "from brax.training.agents.ppo import networks as ppo_networks\n",
    "from brax.training.agents.ppo import train as ppo\n",
    "from brax.training.agents.sac import networks as sac_networks\n",
    "from brax.training.agents.sac import train as sac\n",
    "from etils import epath\n",
    "from flax import struct\n",
    "from flax.training import orbax_utils\n",
    "from IPython.display import HTML, clear_output\n",
    "import jax\n",
    "from jax import numpy as jp\n",
    "from matplotlib import pyplot as plt\n",
    "import mediapy as media\n",
    "from ml_collections import config_dict\n",
    "import mujoco\n",
    "from mujoco import mjx\n",
    "import numpy as np\n",
    "from orbax import checkpoint as ocp"
   ]
  },
  {
   "cell_type": "code",
   "execution_count": 4,
   "metadata": {},
   "outputs": [
    {
     "name": "stdout",
     "output_type": "stream",
     "text": [
      "Requirement already satisfied: playground in /home/ps/anaconda3/lib/python3.12/site-packages (0.0.4)\n",
      "Requirement already satisfied: brax>=0.12.1 in /home/ps/anaconda3/lib/python3.12/site-packages (from playground) (0.12.1)\n",
      "Requirement already satisfied: etils in /home/ps/anaconda3/lib/python3.12/site-packages (from playground) (1.12.2)\n",
      "Requirement already satisfied: flax in /home/ps/anaconda3/lib/python3.12/site-packages (from playground) (0.10.4)\n",
      "Requirement already satisfied: jax in /home/ps/anaconda3/lib/python3.12/site-packages (from playground) (0.5.2)\n",
      "Requirement already satisfied: lxml in /home/ps/anaconda3/lib/python3.12/site-packages (from playground) (5.2.1)\n",
      "Requirement already satisfied: ml-collections in /home/ps/anaconda3/lib/python3.12/site-packages (from playground) (1.0.0)\n",
      "Requirement already satisfied: mujoco-mjx>=3.2.7 in /home/ps/anaconda3/lib/python3.12/site-packages (from playground) (3.3.0)\n",
      "Requirement already satisfied: mujoco>=3.2.7 in /home/ps/anaconda3/lib/python3.12/site-packages (from playground) (3.3.0)\n",
      "Requirement already satisfied: tqdm in /home/ps/anaconda3/lib/python3.12/site-packages (from playground) (4.66.5)\n",
      "Requirement already satisfied: absl-py in /home/ps/anaconda3/lib/python3.12/site-packages (from brax>=0.12.1->playground) (2.1.0)\n",
      "Requirement already satisfied: dm_env in /home/ps/anaconda3/lib/python3.12/site-packages (from brax>=0.12.1->playground) (1.6)\n",
      "Requirement already satisfied: flask in /home/ps/anaconda3/lib/python3.12/site-packages (from brax>=0.12.1->playground) (3.0.3)\n",
      "Requirement already satisfied: flask_cors in /home/ps/anaconda3/lib/python3.12/site-packages (from brax>=0.12.1->playground) (5.0.1)\n",
      "Requirement already satisfied: grpcio in /home/ps/anaconda3/lib/python3.12/site-packages (from brax>=0.12.1->playground) (1.71.0)\n",
      "Requirement already satisfied: gym in /home/ps/anaconda3/lib/python3.12/site-packages (from brax>=0.12.1->playground) (0.26.2)\n",
      "Requirement already satisfied: jaxlib>=0.4.6 in /home/ps/anaconda3/lib/python3.12/site-packages (from brax>=0.12.1->playground) (0.5.1)\n",
      "Requirement already satisfied: jaxopt in /home/ps/anaconda3/lib/python3.12/site-packages (from brax>=0.12.1->playground) (0.8.3)\n",
      "Requirement already satisfied: jinja2 in /home/ps/anaconda3/lib/python3.12/site-packages (from brax>=0.12.1->playground) (3.1.4)\n",
      "Requirement already satisfied: numpy in /home/ps/anaconda3/lib/python3.12/site-packages (from brax>=0.12.1->playground) (1.26.4)\n",
      "Requirement already satisfied: optax in /home/ps/anaconda3/lib/python3.12/site-packages (from brax>=0.12.1->playground) (0.2.4)\n",
      "Requirement already satisfied: orbax-checkpoint in /home/ps/anaconda3/lib/python3.12/site-packages (from brax>=0.12.1->playground) (0.11.8)\n",
      "Requirement already satisfied: Pillow in /home/ps/anaconda3/lib/python3.12/site-packages (from brax>=0.12.1->playground) (10.4.0)\n",
      "Requirement already satisfied: pytinyrenderer in /home/ps/anaconda3/lib/python3.12/site-packages (from brax>=0.12.1->playground) (0.0.14)\n",
      "Requirement already satisfied: scipy in /home/ps/anaconda3/lib/python3.12/site-packages (from brax>=0.12.1->playground) (1.13.1)\n",
      "Requirement already satisfied: tensorboardX in /home/ps/anaconda3/lib/python3.12/site-packages (from brax>=0.12.1->playground) (2.6.2.2)\n",
      "Requirement already satisfied: trimesh in /home/ps/anaconda3/lib/python3.12/site-packages (from brax>=0.12.1->playground) (4.5.3)\n",
      "Requirement already satisfied: typing-extensions in /home/ps/anaconda3/lib/python3.12/site-packages (from brax>=0.12.1->playground) (4.11.0)\n",
      "Requirement already satisfied: ml_dtypes>=0.4.0 in /home/ps/anaconda3/lib/python3.12/site-packages (from jax->playground) (0.5.1)\n",
      "Requirement already satisfied: opt_einsum in /home/ps/anaconda3/lib/python3.12/site-packages (from jax->playground) (3.4.0)\n",
      "Requirement already satisfied: glfw in /home/ps/anaconda3/lib/python3.12/site-packages (from mujoco>=3.2.7->playground) (2.8.0)\n",
      "Requirement already satisfied: pyopengl in /home/ps/anaconda3/lib/python3.12/site-packages (from mujoco>=3.2.7->playground) (3.1.0)\n",
      "Requirement already satisfied: msgpack in /home/ps/anaconda3/lib/python3.12/site-packages (from flax->playground) (1.0.3)\n",
      "Requirement already satisfied: tensorstore in /home/ps/anaconda3/lib/python3.12/site-packages (from flax->playground) (0.1.72)\n",
      "Requirement already satisfied: rich>=11.1 in /home/ps/anaconda3/lib/python3.12/site-packages (from flax->playground) (13.7.1)\n",
      "Requirement already satisfied: PyYAML>=5.4.1 in /home/ps/anaconda3/lib/python3.12/site-packages (from flax->playground) (6.0.1)\n",
      "Requirement already satisfied: treescope>=0.1.7 in /home/ps/anaconda3/lib/python3.12/site-packages (from flax->playground) (0.1.9)\n",
      "Requirement already satisfied: six in /home/ps/anaconda3/lib/python3.12/site-packages (from ml-collections->playground) (1.16.0)\n",
      "Requirement already satisfied: markdown-it-py>=2.2.0 in /home/ps/anaconda3/lib/python3.12/site-packages (from rich>=11.1->flax->playground) (2.2.0)\n",
      "Requirement already satisfied: pygments<3.0.0,>=2.13.0 in /home/ps/anaconda3/lib/python3.12/site-packages (from rich>=11.1->flax->playground) (2.15.1)\n",
      "Requirement already satisfied: dm-tree in /home/ps/anaconda3/lib/python3.12/site-packages (from dm_env->brax>=0.12.1->playground) (0.1.9)\n",
      "Requirement already satisfied: fsspec in /home/ps/anaconda3/lib/python3.12/site-packages (from etils[epath]->mujoco>=3.2.7->playground) (2024.6.1)\n",
      "Requirement already satisfied: importlib_resources in /home/ps/anaconda3/lib/python3.12/site-packages (from etils[epath]->mujoco>=3.2.7->playground) (6.5.2)\n",
      "Requirement already satisfied: zipp in /home/ps/anaconda3/lib/python3.12/site-packages (from etils[epath]->mujoco>=3.2.7->playground) (3.17.0)\n",
      "Requirement already satisfied: Werkzeug>=3.0.0 in /home/ps/anaconda3/lib/python3.12/site-packages (from flask->brax>=0.12.1->playground) (3.0.3)\n",
      "Requirement already satisfied: itsdangerous>=2.1.2 in /home/ps/anaconda3/lib/python3.12/site-packages (from flask->brax>=0.12.1->playground) (2.2.0)\n",
      "Requirement already satisfied: click>=8.1.3 in /home/ps/anaconda3/lib/python3.12/site-packages (from flask->brax>=0.12.1->playground) (8.1.7)\n",
      "Requirement already satisfied: blinker>=1.6.2 in /home/ps/anaconda3/lib/python3.12/site-packages (from flask->brax>=0.12.1->playground) (1.6.2)\n",
      "Requirement already satisfied: MarkupSafe>=2.0 in /home/ps/anaconda3/lib/python3.12/site-packages (from jinja2->brax>=0.12.1->playground) (2.1.3)\n",
      "Requirement already satisfied: cloudpickle>=1.2.0 in /home/ps/anaconda3/lib/python3.12/site-packages (from gym->brax>=0.12.1->playground) (3.0.0)\n",
      "Requirement already satisfied: gym_notices>=0.0.4 in /home/ps/anaconda3/lib/python3.12/site-packages (from gym->brax>=0.12.1->playground) (0.0.8)\n",
      "Requirement already satisfied: chex>=0.1.87 in /home/ps/anaconda3/lib/python3.12/site-packages (from optax->brax>=0.12.1->playground) (0.1.89)\n",
      "Requirement already satisfied: nest_asyncio in /home/ps/anaconda3/lib/python3.12/site-packages (from orbax-checkpoint->brax>=0.12.1->playground) (1.6.0)\n",
      "Requirement already satisfied: protobuf in /home/ps/anaconda3/lib/python3.12/site-packages (from orbax-checkpoint->brax>=0.12.1->playground) (4.25.3)\n",
      "Requirement already satisfied: humanize in /home/ps/anaconda3/lib/python3.12/site-packages (from orbax-checkpoint->brax>=0.12.1->playground) (4.12.1)\n",
      "Requirement already satisfied: simplejson>=3.16.0 in /home/ps/anaconda3/lib/python3.12/site-packages (from orbax-checkpoint->brax>=0.12.1->playground) (3.20.1)\n",
      "Requirement already satisfied: packaging in /home/ps/anaconda3/lib/python3.12/site-packages (from tensorboardX->brax>=0.12.1->playground) (24.1)\n",
      "Requirement already satisfied: setuptools in /home/ps/anaconda3/lib/python3.12/site-packages (from chex>=0.1.87->optax->brax>=0.12.1->playground) (75.1.0)\n",
      "Requirement already satisfied: toolz>=0.9.0 in /home/ps/anaconda3/lib/python3.12/site-packages (from chex>=0.1.87->optax->brax>=0.12.1->playground) (0.12.0)\n",
      "Requirement already satisfied: mdurl~=0.1 in /home/ps/anaconda3/lib/python3.12/site-packages (from markdown-it-py>=2.2.0->rich>=11.1->flax->playground) (0.1.0)\n",
      "Requirement already satisfied: attrs>=18.2.0 in /home/ps/anaconda3/lib/python3.12/site-packages (from dm-tree->dm_env->brax>=0.12.1->playground) (23.1.0)\n",
      "Requirement already satisfied: wrapt>=1.11.2 in /home/ps/anaconda3/lib/python3.12/site-packages (from dm-tree->dm_env->brax>=0.12.1->playground) (1.14.1)\n"
     ]
    }
   ],
   "source": [
    "!pip install playground"
   ]
  },
  {
   "cell_type": "code",
   "execution_count": 5,
   "metadata": {},
   "outputs": [
    {
     "data": {
      "text/plain": [
       "<module 'mujoco_playground._src.registry' from '/home/ps/Documents/mujoco_playground/mujoco_playground/_src/registry.py'>"
      ]
     },
     "execution_count": 5,
     "metadata": {},
     "output_type": "execute_result"
    }
   ],
   "source": [
    "#@title Import The Playground\n",
    "import importlib\n",
    "from mujoco_playground import wrapper\n",
    "from mujoco_playground import registry\n",
    "importlib.reload(wrapper)\n",
    "importlib.reload(registry)"
   ]
  },
  {
   "cell_type": "code",
   "execution_count": 6,
   "metadata": {},
   "outputs": [
    {
     "data": {
      "text/plain": [
       "('BarkourJoystick',\n",
       " 'BerkeleyHumanoidJoystickFlatTerrain',\n",
       " 'BerkeleyHumanoidJoystickRoughTerrain',\n",
       " 'G1JoystickFlatTerrain',\n",
       " 'G1JoystickRoughTerrain',\n",
       " 'Go1JoystickFlatTerrain',\n",
       " 'Go1JoystickRoughTerrain',\n",
       " 'Go1Getup',\n",
       " 'Go1Handstand',\n",
       " 'Go1Footstand',\n",
       " 'H1InplaceGaitTracking',\n",
       " 'H1JoystickGaitTracking',\n",
       " 'Op3Joystick',\n",
       " 'SpotFlatTerrainJoystick',\n",
       " 'SpotGetup',\n",
       " 'SpotJoystickGaitTracking',\n",
       " 'T1JoystickFlatTerrain',\n",
       " 'T1JoystickRoughTerrain',\n",
       " 'BaiJoystickFlatTerrain')"
      ]
     },
     "execution_count": 6,
     "metadata": {},
     "output_type": "execute_result"
    }
   ],
   "source": [
    "registry.locomotion.ALL_ENVS"
   ]
  },
  {
   "cell_type": "code",
   "execution_count": 7,
   "metadata": {},
   "outputs": [],
   "source": [
    "env_name = 'BaiJoystickFlatTerrain'\n",
    "env = registry.load(env_name)\n",
    "env_cfg = registry.get_default_config(env_name)"
   ]
  },
  {
   "cell_type": "code",
   "execution_count": 8,
   "metadata": {},
   "outputs": [
    {
     "data": {
      "text/plain": [
       "Kd: 0.5\n",
       "Kp: 15.0\n",
       "action_repeat: 1\n",
       "action_scale: 0.5\n",
       "command_config:\n",
       "  a:\n",
       "  - 1.5\n",
       "  - 0.8\n",
       "  - 1.2\n",
       "  b:\n",
       "  - 0.9\n",
       "  - 0.25\n",
       "  - 0.5\n",
       "ctrl_dt: 0.02\n",
       "episode_length: 1000\n",
       "history_len: 1\n",
       "noise_config:\n",
       "  level: 1.0\n",
       "  scales:\n",
       "    gravity: 0.05\n",
       "    gyro: 0.2\n",
       "    joint_pos: 0.03\n",
       "    joint_vel: 1.5\n",
       "    linvel: 0.1\n",
       "pert_config:\n",
       "  enable: false\n",
       "  kick_durations:\n",
       "  - 0.05\n",
       "  - 0.2\n",
       "  kick_wait_times:\n",
       "  - 1.0\n",
       "  - 3.0\n",
       "  velocity_kick:\n",
       "  - 0.0\n",
       "  - 0.5\n",
       "reward_config:\n",
       "  max_foot_height: 0.05\n",
       "  scales:\n",
       "    action_rate: -0.01\n",
       "    ang_vel_xy: -0.05\n",
       "    dof_pos_limits: -1.0\n",
       "    energy: -0.001\n",
       "    feet_air_time: 0.1\n",
       "    feet_clearance: -2.0\n",
       "    feet_height: -0.2\n",
       "    feet_slip: -0.1\n",
       "    lin_vel_z: -0.5\n",
       "    orientation: -5.0\n",
       "    pose: 0.5\n",
       "    stand_still: -1.0\n",
       "    termination: -1.0\n",
       "    torques: -0.0002\n",
       "    tracking_ang_vel: 0.5\n",
       "    tracking_lin_vel: 1.0\n",
       "  tracking_sigma: 0.25\n",
       "sim_dt: 0.004\n",
       "soft_joint_pos_limit_factor: 0.95"
      ]
     },
     "execution_count": 8,
     "metadata": {},
     "output_type": "execute_result"
    }
   ],
   "source": [
    "env_cfg"
   ]
  },
  {
   "cell_type": "code",
   "execution_count": 10,
   "metadata": {},
   "outputs": [
    {
     "data": {
      "text/plain": [
       "action_repeat: 1\n",
       "batch_size: 256\n",
       "discounting: 0.97\n",
       "entropy_cost: 0.01\n",
       "episode_length: 1000\n",
       "learning_rate: 0.0003\n",
       "max_grad_norm: 1.0\n",
       "network_factory:\n",
       "  policy_hidden_layer_sizes: &id001 !!python/tuple\n",
       "  - 512\n",
       "  - 256\n",
       "  - 128\n",
       "  policy_obs_key: state\n",
       "  value_hidden_layer_sizes: *id001\n",
       "  value_obs_key: privileged_state\n",
       "normalize_observations: true\n",
       "num_envs: 1024\n",
       "num_evals: 5\n",
       "num_minibatches: 32\n",
       "num_timesteps: 100000000\n",
       "num_updates_per_batch: 4\n",
       "reward_scaling: 1.0\n",
       "unroll_length: 20"
      ]
     },
     "execution_count": 10,
     "metadata": {},
     "output_type": "execute_result"
    }
   ],
   "source": [
    "import importlib\n",
    "from mujoco_playground.config import locomotion_params\n",
    "# Reload the module\n",
    "importlib.reload(locomotion_params)\n",
    "# Use the config\n",
    "ppo_params = locomotion_params.brax_ppo_config(env_name)\n",
    "ppo_params"
   ]
  },
  {
   "cell_type": "markdown",
   "metadata": {},
   "source": [
    "Let's train with ppo"
   ]
  },
  {
   "cell_type": "code",
   "execution_count": 11,
   "metadata": {},
   "outputs": [
    {
     "name": "stdout",
     "output_type": "stream",
     "text": [
      "Env 'BaiJoystickFlatTerrain' does not have a domain randomizer in the locomotion registry.\n"
     ]
    }
   ],
   "source": [
    "registry.get_domain_randomizer(env_name)"
   ]
  },
  {
   "cell_type": "code",
   "execution_count": 13,
   "metadata": {},
   "outputs": [
    {
     "name": "stdout",
     "output_type": "stream",
     "text": [
      "Env 'BaiJoystickFlatTerrain' does not have a domain randomizer in the locomotion registry.\n",
      "{'action_repeat': 1, 'batch_size': 256, 'discounting': 0.97, 'entropy_cost': 0.01, 'episode_length': 1000, 'learning_rate': 0.0003, 'max_grad_norm': 1.0, 'network_factory': policy_hidden_layer_sizes: &id001 !!python/tuple\n",
      "- 512\n",
      "- 256\n",
      "- 128\n",
      "policy_obs_key: state\n",
      "value_hidden_layer_sizes: *id001\n",
      "value_obs_key: privileged_state\n",
      ", 'normalize_observations': True, 'num_envs': 1024, 'num_evals': 5, 'num_minibatches': 32, 'num_timesteps': 100000000, 'num_updates_per_batch': 4, 'reward_scaling': 1.0, 'unroll_length': 20}\n"
     ]
    }
   ],
   "source": [
    "x_data, y_data, y_dataerr = [], [], []\n",
    "times = [datetime.now()]\n",
    "\n",
    "\n",
    "def progress(num_steps, metrics):\n",
    "  clear_output(wait=True)\n",
    "\n",
    "  times.append(datetime.now())\n",
    "  x_data.append(num_steps)\n",
    "  y_data.append(metrics[\"eval/episode_reward\"])\n",
    "  y_dataerr.append(metrics[\"eval/episode_reward_std\"])\n",
    "\n",
    "  plt.xlim([0, ppo_params[\"num_timesteps\"] * 1.25])\n",
    "  plt.xlabel(\"# environment steps\")\n",
    "  plt.ylabel(\"reward per episode\")\n",
    "  plt.title(f\"y={y_data[-1]:.3f}\")\n",
    "  plt.errorbar(x_data, y_data, yerr=y_dataerr, color=\"blue\")\n",
    "\n",
    "  display(plt.gcf())\n",
    "\n",
    "randomizer = registry.get_domain_randomizer(env_name)\n",
    "ppo_training_params = dict(ppo_params)\n",
    "print(ppo_training_params)\n",
    "network_factory = ppo_networks.make_ppo_networks\n",
    "if \"network_factory\" in ppo_params:\n",
    "  del ppo_training_params[\"network_factory\"]\n",
    "  network_factory = functools.partial(\n",
    "      ppo_networks.make_ppo_networks,\n",
    "      **ppo_params.network_factory\n",
    "  )\n",
    "\n",
    "train_fn = functools.partial(\n",
    "    ppo.train, **dict(ppo_training_params),\n",
    "    network_factory=network_factory,\n",
    "    randomization_fn=randomizer,\n",
    "    progress_fn=progress\n",
    ")"
   ]
  },
  {
   "cell_type": "code",
   "execution_count": null,
   "metadata": {},
   "outputs": [
    {
     "data": {
      "image/png": "[encoded data removed]",
      "text/plain": [
       "<Figure size 640x480 with 1 Axes>"
      ]
     },
     "metadata": {},
     "output_type": "display_data"
    }
   ],
   "source": [
    "make_inference_fn, params, metrics = train_fn(\n",
    "    environment=env,\n",
    "    eval_env=registry.load(env_name, config=env_cfg),\n",
    "    wrap_env_fn=wrapper.wrap_for_brax_training,\n",
    ")\n",
    "print(f\"time to jit: {times[1] - times[0]}\")\n",
    "print(f\"time to train: {times[-1] - times[1]}\")"
   ]
  },
  {
   "cell_type": "code",
   "execution_count": 50,
   "metadata": {},
   "outputs": [
    {
     "name": "stdout",
     "output_type": "stream",
     "text": [
      "env obs shape: {'privileged_state': (81,), 'state': (30,)}\n",
      "eval_env obs shape: {'privileged_state': (81,), 'state': (30,)}\n"
     ]
    }
   ],
   "source": [
    "print(\"env obs shape:\", env.observation_size)\n",
    "print(\"eval_env obs shape:\", registry.load(env_name, config=env_cfg).observation_size)"
   ]
  },
  {
   "cell_type": "code",
   "execution_count": 51,
   "metadata": {},
   "outputs": [
    {
     "name": "stdout",
     "output_type": "stream",
     "text": [
      "env action size: 6\n",
      "eval_env action size: 6\n"
     ]
    }
   ],
   "source": [
    "print(\"env action size:\", env.action_size)\n",
    "print(\"eval_env action size:\", registry.load(env_name, config=env_cfg).action_size)"
   ]
  }
 ],
 "metadata": {
  "kernelspec": {
   "display_name": ".venv",
   "language": "python",
   "name": "python3"
  },
  "language_info": {
   "codemirror_mode": {
    "name": "ipython",
    "version": 3
   },
   "file_extension": ".py",
   "mimetype": "text/x-python",
   "name": "python",
   "nbconvert_exporter": "python",
   "pygments_lexer": "ipython3",
   "version": "3.11.11"
  }
 },
 "nbformat": 4,
 "nbformat_minor": 2
}
